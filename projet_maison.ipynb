{
 "cells": [
  {
   "cell_type": "markdown",
   "id": "cf24ffc5-47eb-430d-b7e0-9f6c1d8005ef",
   "metadata": {},
   "source": [
    "Projet THB\n",
    "\n",
    "[![Binder](https://mybinder.org/badge_logo.svg)](https://mybinder.org/v2/gh/Giupi02/prjoet_maison_THB/HEAD)"
   ]
  },
  {
   "cell_type": "code",
   "execution_count": 4,
   "id": "f03bc323-0404-478a-80e4-2954695693a0",
   "metadata": {
    "tags": []
   },
   "outputs": [
    {
     "name": "stdout",
     "output_type": "stream",
     "text": [
      "[7. 7. 7. 7. 7. 7. 7. 7. 7. 7. 7. 7.]\n"
     ]
    }
   ],
   "source": [
    "%run projet_maison.py"
   ]
  },
  {
   "cell_type": "code",
   "execution_count": null,
   "id": "4b825c1c-e997-47c6-a1d4-f679eef59729",
   "metadata": {},
   "outputs": [],
   "source": []
  }
 ],
 "metadata": {
  "kernelspec": {
   "display_name": "Python 3 (ipykernel)",
   "language": "python",
   "name": "python3"
  },
  "language_info": {
   "codemirror_mode": {
    "name": "ipython",
    "version": 3
   },
   "file_extension": ".py",
   "mimetype": "text/x-python",
   "name": "python",
   "nbconvert_exporter": "python",
   "pygments_lexer": "ipython3",
   "version": "3.11.5"
  }
 },
 "nbformat": 4,
 "nbformat_minor": 5
}
