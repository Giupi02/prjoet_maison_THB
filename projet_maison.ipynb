{
 "cells": [
  {
   "cell_type": "markdown",
   "id": "cf24ffc5-47eb-430d-b7e0-9f6c1d8005ef",
   "metadata": {},
   "source": [
    "Projet THB"
   ]
  },
  {
   "cell_type": "code",
   "execution_count": 3,
   "id": "f03bc323-0404-478a-80e4-2954695693a0",
   "metadata": {
    "tags": []
   },
   "outputs": [
    {
     "ename": "NameError",
     "evalue": "name 'projet_maison' is not defined",
     "output_type": "error",
     "traceback": [
      "\u001b[1;31m---------------------------------------------------------------------------\u001b[0m",
      "\u001b[1;31mNameError\u001b[0m                                 Traceback (most recent call last)",
      "Cell \u001b[1;32mIn[3], line 1\u001b[0m\n\u001b[1;32m----> 1\u001b[0m projet_maison()\n",
      "\u001b[1;31mNameError\u001b[0m: name 'projet_maison' is not defined"
     ]
    }
   ],
   "source": [
    "%run projet_maison.py"
   ]
  },
  {
   "cell_type": "code",
   "execution_count": null,
   "id": "4b825c1c-e997-47c6-a1d4-f679eef59729",
   "metadata": {},
   "outputs": [],
   "source": []
  }
 ],
 "metadata": {
  "kernelspec": {
   "display_name": "Python 3 (ipykernel)",
   "language": "python",
   "name": "python3"
  },
  "language_info": {
   "codemirror_mode": {
    "name": "ipython",
    "version": 3
   },
   "file_extension": ".py",
   "mimetype": "text/x-python",
   "name": "python",
   "nbconvert_exporter": "python",
   "pygments_lexer": "ipython3",
   "version": "3.11.5"
  }
 },
 "nbformat": 4,
 "nbformat_minor": 5
}
